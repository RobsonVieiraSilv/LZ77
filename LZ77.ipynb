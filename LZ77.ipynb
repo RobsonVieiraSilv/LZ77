{
  "nbformat": 4,
  "nbformat_minor": 0,
  "metadata": {
    "colab": {
      "provenance": [],
      "authorship_tag": "ABX9TyPdno+CeSAjzxDYmRZ9d6xF",
      "include_colab_link": true
    },
    "kernelspec": {
      "name": "python3",
      "display_name": "Python 3"
    },
    "language_info": {
      "name": "python"
    }
  },
  "cells": [
    {
      "cell_type": "markdown",
      "metadata": {
        "id": "view-in-github",
        "colab_type": "text"
      },
      "source": [
        "<a href=\"https://colab.research.google.com/github/RobsonVieiraSilv/LZ77/blob/main/LZ77.ipynb\" target=\"_parent\"><img src=\"https://colab.research.google.com/assets/colab-badge.svg\" alt=\"Open In Colab\"/></a>"
      ]
    },
    {
      "cell_type": "markdown",
      "source": [
        "### **Implementação do algoritmo Lempel-Ziv 77 (LZ77)**"
      ],
      "metadata": {
        "id": "nPZW0hXR8vre"
      }
    },
    {
      "cell_type": "code",
      "execution_count": 54,
      "metadata": {
        "id": "JO2WGcA3GGUk"
      },
      "outputs": [],
      "source": [
        "def LZ77_compress(data, window_size):\n",
        "    compressed_data = []\n",
        "    i = 0\n",
        "\n",
        "    while i < len(data):\n",
        "        match_length = 0\n",
        "        match_distance = 0\n",
        "        caractere = data[i]\n",
        "\n",
        "        # Define a janela de busca\n",
        "        start_window = max(0, i - window_size)\n",
        "        search_buffer = data[start_window:i]\n",
        "\n",
        "        # Procura correspondência na janela de busca\n",
        "        for j in range(len(search_buffer)):\n",
        "            L = 0\n",
        "            while (L < len(data) - i and\n",
        "                   search_buffer[j:j+L+1] == data[i:i+L+1]):\n",
        "                L += 1\n",
        "\n",
        "            if L > match_length:\n",
        "                match_length = L\n",
        "                match_distance = len(search_buffer) - j\n",
        "\n",
        "        if match_length == 0:\n",
        "            compressed_data.append((0, 0, caractere))\n",
        "            i += 1\n",
        "        else:\n",
        "            # Combina correspondências consecutivas, se possível\n",
        "            if compressed_data and compressed_data[-1][0] == 1 and compressed_data[-1][1] == match_distance:\n",
        "                compressed_data[-1] = (1, match_distance, compressed_data[-1][2] + match_length)\n",
        "            else:\n",
        "                compressed_data.append((1, match_distance, match_length))\n",
        "            i += match_length\n",
        "\n",
        "    return compressed_data\n",
        "\n",
        "def LZ77_decompress(compressed_data):\n",
        "    decompressed_data = []\n",
        "\n",
        "    for F, P, L in compressed_data:\n",
        "        if F == 0:\n",
        "            decompressed_data.append(L)\n",
        "        else:\n",
        "            start = len(decompressed_data) - P\n",
        "            for i in range(L):\n",
        "                decompressed_data.append(decompressed_data[start + i])\n",
        "\n",
        "    return ''.join(decompressed_data)"
      ]
    },
    {
      "cell_type": "markdown",
      "source": [
        "Primeiro teste: verificando se a string é convertida em uma sequência de tuplas idêntica a da sequência apresenta no livro"
      ],
      "metadata": {
        "id": "HnP6RlyH9K2q"
      }
    },
    {
      "cell_type": "code",
      "source": [
        "string = \"ABBABBABBBAABABA\"\n",
        "# string = \"ABABAABAAABBABAB\"\n",
        "# string = \"1011010100010\"\n",
        "\n",
        "seq_tupla_0 = LZ77_compress(string, 4) ## 4 é o comprimento da janela, ou seja, window_size = 4\n",
        "print(seq_tupla_0)"
      ],
      "metadata": {
        "colab": {
          "base_uri": "https://localhost:8080/"
        },
        "id": "nNrG6SwyGSuy",
        "outputId": "11c5cda9-5d4b-4891-e704-d1faabd777f0"
      },
      "execution_count": 55,
      "outputs": [
        {
          "output_type": "stream",
          "name": "stdout",
          "text": [
            "[(0, 0, 'A'), (0, 0, 'B'), (1, 1, 1), (1, 3, 6), (1, 4, 2), (1, 1, 1), (1, 3, 2), (1, 2, 2)]\n"
          ]
        }
      ]
    },
    {
      "cell_type": "markdown",
      "source": [
        "Recuperação da string a partir da tupla gerada:"
      ],
      "metadata": {
        "id": "xpao7XSg9naq"
      }
    },
    {
      "cell_type": "code",
      "source": [
        "rec_string = LZ77_decompress(seq_tupla_0)\n",
        "print(rec_string)"
      ],
      "metadata": {
        "colab": {
          "base_uri": "https://localhost:8080/"
        },
        "id": "0T9jUFksGUVh",
        "outputId": "57293466-4eab-41b8-bde0-e097c5ae2c3f"
      },
      "execution_count": 56,
      "outputs": [
        {
          "output_type": "stream",
          "name": "stdout",
          "text": [
            "ABBABBABBBAABABA\n"
          ]
        }
      ]
    },
    {
      "cell_type": "markdown",
      "source": [
        "Segundo teste: utilizar uma frase"
      ],
      "metadata": {
        "id": "M8_AFtiY92Hj"
      }
    },
    {
      "cell_type": "code",
      "source": [
        "texto = \"O_rato_roeu_a_roupa_do_rei_de_Roma\"\n",
        "seq_tupla_1 = LZ77_compress(texto, 12)\n",
        "seq_tupla_1"
      ],
      "metadata": {
        "colab": {
          "base_uri": "https://localhost:8080/"
        },
        "id": "vLJWii60leF1",
        "outputId": "5f75acb0-878d-4ccd-a46f-69be73ed15ca"
      },
      "execution_count": 57,
      "outputs": [
        {
          "output_type": "execute_result",
          "data": {
            "text/plain": [
              "[(0, 0, 'O'),\n",
              " (0, 0, '_'),\n",
              " (0, 0, 'r'),\n",
              " (0, 0, 'a'),\n",
              " (0, 0, 't'),\n",
              " (0, 0, 'o'),\n",
              " (1, 5, 2),\n",
              " (1, 3, 1),\n",
              " (0, 0, 'e'),\n",
              " (0, 0, 'u'),\n",
              " (1, 10, 1),\n",
              " (1, 9, 1),\n",
              " (1, 7, 3),\n",
              " (1, 6, 1),\n",
              " (0, 0, 'p'),\n",
              " (1, 6, 2),\n",
              " (0, 0, 'd'),\n",
              " (1, 6, 1),\n",
              " (1, 9, 2),\n",
              " (0, 0, 'e'),\n",
              " (0, 0, 'i'),\n",
              " (1, 7, 2),\n",
              " (1, 4, 1),\n",
              " (1, 10, 1),\n",
              " (0, 0, 'R'),\n",
              " (1, 10, 1),\n",
              " (0, 0, 'm'),\n",
              " (0, 0, 'a')]"
            ]
          },
          "metadata": {},
          "execution_count": 57
        }
      ]
    },
    {
      "cell_type": "code",
      "source": [
        "rec_texto = LZ77_decompress(seq_tupla_1)\n",
        "rec_texto"
      ],
      "metadata": {
        "colab": {
          "base_uri": "https://localhost:8080/",
          "height": 35
        },
        "id": "fgCo7TTclmSs",
        "outputId": "8bd65cba-46f4-40e2-d859-71ed0382905d"
      },
      "execution_count": 58,
      "outputs": [
        {
          "output_type": "execute_result",
          "data": {
            "text/plain": [
              "'O_rato_roeu_a_roupa_do_rei_de_Roma'"
            ],
            "application/vnd.google.colaboratory.intrinsic+json": {
              "type": "string"
            }
          },
          "metadata": {},
          "execution_count": 58
        }
      ]
    },
    {
      "cell_type": "markdown",
      "source": [
        "**Codificação e decodificação com LZ77**"
      ],
      "metadata": {
        "id": "kdaWlQQcXwZO"
      }
    },
    {
      "cell_type": "code",
      "source": [
        "import math\n",
        "\n",
        "def to_binary(n, length):\n",
        "    return bin(n)[2:].zfill(length)\n",
        "\n",
        "def LZ77_encoder(input_string, window_size):\n",
        "\n",
        "    substrings = ['']\n",
        "    tuplas = []\n",
        "\n",
        "    i = 0\n",
        "    while i < len(input_string):\n",
        "        j = 1\n",
        "        while input_string[i:i + j] in substrings and (i + j) <= len(input_string):\n",
        "            j += 1\n",
        "        j -= 1\n",
        "\n",
        "        # Determina o índice da substring encontrada\n",
        "        substring = input_string[i:i + j]\n",
        "\n",
        "        pointer = substrings.index(substring)\n",
        "\n",
        "        # Converte o ponteiro para binário com o número necessário de bits\n",
        "        pointer_binary = to_binary(pointer, math.ceil(math.log2(len(substrings))))\n",
        "\n",
        "        # Define o próximo bit que não está na substring para ser o bit extra\n",
        "        next_bit = input_string[i + j] if (i + j) < len(input_string) else ''\n",
        "\n",
        "        tuplas.append((pointer_binary, next_bit))\n",
        "\n",
        "        if len(substrings) >= window_size:\n",
        "            substrings.pop(0)\n",
        "        substrings.append(substring + next_bit)\n",
        "\n",
        "        i += j + 1\n",
        "\n",
        "    encoded_string = []\n",
        "    for i in range(len(tuplas)):\n",
        "      if i==0:\n",
        "        encoded_string.append(tuplas[i][1])\n",
        "      else:\n",
        "        encoded_string.append(tuplas[i][0])\n",
        "        encoded_string.append(tuplas[i][1])\n",
        "\n",
        "    return tuplas, ''.join(encoded_string)"
      ],
      "metadata": {
        "id": "mMd6ykk90l24"
      },
      "execution_count": 59,
      "outputs": []
    },
    {
      "cell_type": "code",
      "source": [
        "def LZ77_decoder(encoded_string):\n",
        "    substrings = ['']\n",
        "    seq_tuplas = []\n",
        "    input_string = []\n",
        "    i = 0\n",
        "\n",
        "    while i < len(encoded_string):\n",
        "        # Determinar o número de bits do ponteiro (baseado no tamanho atual do dicionário)\n",
        "        tupla_length = math.ceil(math.log2(len(substrings)))\n",
        "\n",
        "        if tupla_length == 0:  # Caso inicial\n",
        "            tupla = 0\n",
        "        else:\n",
        "            # Extrair o ponteiro em binário\n",
        "            pointer_binary = encoded_string[i:i + tupla_length]\n",
        "            tupla = int(pointer_binary, 2)\n",
        "            i += tupla_length\n",
        "\n",
        "        # Extrair o próximo bit (se existir)\n",
        "        next_bit = encoded_string[i] if i < len(encoded_string) else ''\n",
        "        i += 1\n",
        "\n",
        "        # Adicionar a tuplas\n",
        "        seq_tuplas.append((to_binary(tupla, tupla_length), next_bit))\n",
        "\n",
        "        # Reconstruir o input_string\n",
        "        substring = substrings[tupla] + next_bit\n",
        "        input_string.append(substring)\n",
        "\n",
        "        substrings.append(substring)\n",
        "\n",
        "    input_string = ''.join(input_string)\n",
        "    return seq_tuplas, input_string"
      ],
      "metadata": {
        "id": "IAYDsxh53GFn"
      },
      "execution_count": 60,
      "outputs": []
    },
    {
      "cell_type": "markdown",
      "source": [
        "Exemplo 1:"
      ],
      "metadata": {
        "id": "c91Y9WjyYsh9"
      }
    },
    {
      "cell_type": "code",
      "source": [
        "mensagem = \"1011010100010\"\n",
        "encoded_tupla, encoded_msg = LZ77_encoder(mensagem, 12)\n",
        "print(\"Sequência de tuplas:\", encoded_tupla)\n",
        "print(\"String codificada:\", encoded_msg)"
      ],
      "metadata": {
        "colab": {
          "base_uri": "https://localhost:8080/"
        },
        "id": "1aJO2CpsYoGB",
        "outputId": "79289d2c-0e3b-4268-cd24-b005240294af"
      },
      "execution_count": 61,
      "outputs": [
        {
          "output_type": "stream",
          "name": "stdout",
          "text": [
            "Sequência de tuplas: [('0', '1'), ('0', '0'), ('01', '1'), ('10', '1'), ('100', '0'), ('010', '0'), ('001', '0')]\n",
            "String codificada: 100011101100001000010\n"
          ]
        }
      ]
    },
    {
      "cell_type": "code",
      "source": [
        "seq_tupla_2, rec_mensagem = LZ77_decoder(encoded_msg)\n",
        "print(\"Tuplas:\",seq_tupla_2)\n",
        "print(\"String decodificada:\", rec_mensagem)"
      ],
      "metadata": {
        "colab": {
          "base_uri": "https://localhost:8080/"
        },
        "id": "MSbqKgZbYq1W",
        "outputId": "10a2e2bd-e8aa-4448-b97f-2d91ea8d62cb"
      },
      "execution_count": 62,
      "outputs": [
        {
          "output_type": "stream",
          "name": "stdout",
          "text": [
            "Tuplas: [('0', '1'), ('0', '0'), ('01', '1'), ('10', '1'), ('100', '0'), ('010', '0'), ('001', '0')]\n",
            "String decodificada: 1011010100010\n"
          ]
        }
      ]
    },
    {
      "cell_type": "code",
      "source": [
        "if rec_mensagem == mensagem:\n",
        "  print(True)\n",
        "else:\n",
        "  print(False)"
      ],
      "metadata": {
        "colab": {
          "base_uri": "https://localhost:8080/"
        },
        "id": "r54d-d3MbLG3",
        "outputId": "15115b3c-f10b-43a0-9e09-802a32625d3a"
      },
      "execution_count": 63,
      "outputs": [
        {
          "output_type": "stream",
          "name": "stdout",
          "text": [
            "True\n"
          ]
        }
      ]
    },
    {
      "cell_type": "markdown",
      "source": [
        "Exercício 7.6 do livro de David MacKay:\n",
        "Encode the string **000000000000100000000000** using the basic Lempel-Ziv algorithm described above."
      ],
      "metadata": {
        "id": "iLqVKLEfItmb"
      }
    },
    {
      "cell_type": "code",
      "source": [
        "string_7_6 = \"000000000000100000000000\"\n",
        "encoded_tupla_7_6, enconded_7_6 = LZ77_encoder(string_7_6, 12)\n",
        "print(\"Tuplas:\", encoded_tupla_7_6)\n",
        "print(\"String codificada:\", enconded_7_6)"
      ],
      "metadata": {
        "colab": {
          "base_uri": "https://localhost:8080/"
        },
        "id": "6N-FUcgfIP94",
        "outputId": "991435af-b3f0-4805-ad9a-d307dbecdd38"
      },
      "execution_count": 64,
      "outputs": [
        {
          "output_type": "stream",
          "name": "stdout",
          "text": [
            "Tuplas: [('0', '0'), ('1', '0'), ('10', '0'), ('11', '0'), ('010', '1'), ('100', '0'), ('110', '0')]\n",
            "String codificada: 010100110010110001100\n"
          ]
        }
      ]
    },
    {
      "cell_type": "markdown",
      "source": [
        "Exercício 7.7 do livro de David MacKay: Decode the string **00101011101100100100011010101000011** that was encoded using the basic Lempel-Ziv algorithm."
      ],
      "metadata": {
        "id": "r-hJ91IhJnkG"
      }
    },
    {
      "cell_type": "code",
      "source": [
        "decode_7_7 = \"00101011101100100100011010101000011\"\n",
        "\n",
        "string_7_7 = \"0100001000100010101000001\" ## resultado apresentado no livro"
      ],
      "metadata": {
        "id": "vkUhrIJcJmHI"
      },
      "execution_count": 65,
      "outputs": []
    },
    {
      "cell_type": "code",
      "source": [
        "seq_tupla, mensagem_original = LZ77_decoder(decode_7_7)\n",
        "print(\"Tuplas:\", seq_tupla)\n",
        "print(\"String decodificada:\", mensagem_original)"
      ],
      "metadata": {
        "colab": {
          "base_uri": "https://localhost:8080/"
        },
        "id": "GeJNgcod4krI",
        "outputId": "e8b8444c-0ea7-4ad1-aa33-c006f567d8e8"
      },
      "execution_count": 66,
      "outputs": [
        {
          "output_type": "stream",
          "name": "stdout",
          "text": [
            "Tuplas: [('0', '0'), ('0', '1'), ('01', '0'), ('11', '1'), ('011', '0'), ('010', '0'), ('100', '0'), ('110', '1'), ('0101', '0'), ('0001', '1')]\n",
            "String decodificada: 0100001000100010101000001\n"
          ]
        }
      ]
    },
    {
      "cell_type": "code",
      "source": [
        "if mensagem_original == string_7_7:\n",
        "  print(True)\n",
        "else:\n",
        "  print(False)"
      ],
      "metadata": {
        "colab": {
          "base_uri": "https://localhost:8080/"
        },
        "id": "CSpyFUKy9fb3",
        "outputId": "b7b185d2-32b7-4503-f8ac-039f3efee2dc"
      },
      "execution_count": 67,
      "outputs": [
        {
          "output_type": "stream",
          "name": "stdout",
          "text": [
            "True\n"
          ]
        }
      ]
    }
  ]
}