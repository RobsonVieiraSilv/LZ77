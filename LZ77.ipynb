{
  "nbformat": 4,
  "nbformat_minor": 0,
  "metadata": {
    "colab": {
      "provenance": [],
      "authorship_tag": "ABX9TyPNRZs33KKrhxGQ2jkjADr0",
      "include_colab_link": true
    },
    "kernelspec": {
      "name": "python3",
      "display_name": "Python 3"
    },
    "language_info": {
      "name": "python"
    }
  },
  "cells": [
    {
      "cell_type": "markdown",
      "metadata": {
        "id": "view-in-github",
        "colab_type": "text"
      },
      "source": [
        "<a href=\"https://colab.research.google.com/github/RobsonVieiraSilv/LZ77/blob/main/LZ77.ipynb\" target=\"_parent\"><img src=\"https://colab.research.google.com/assets/colab-badge.svg\" alt=\"Open In Colab\"/></a>"
      ]
    },
    {
      "cell_type": "markdown",
      "source": [
        "### **Implementação do algoritmo Lempel-Ziv 77 (LZ77)**"
      ],
      "metadata": {
        "id": "nPZW0hXR8vre"
      }
    },
    {
      "cell_type": "code",
      "execution_count": 1,
      "metadata": {
        "id": "JO2WGcA3GGUk"
      },
      "outputs": [],
      "source": [
        "import numpy as np\n",
        "\n",
        "def lz77_compress(data, window_size):\n",
        "    compressed_data = []\n",
        "    i = 0\n",
        "\n",
        "    while i < len(data):\n",
        "        match_length = 0\n",
        "        match_distance = 0\n",
        "        caractere = data[i]\n",
        "\n",
        "        # Define a janela de busca\n",
        "        start_window = max(0, i - window_size)\n",
        "        search_buffer = data[start_window:i]\n",
        "\n",
        "        # Procura correspondência na janela de busca\n",
        "        for j in range(len(search_buffer)):\n",
        "            length = 0\n",
        "            while (length < len(data) - i and\n",
        "                   search_buffer[j:j+length+1] == data[i:i+length+1]):\n",
        "                length += 1\n",
        "\n",
        "            # Atualiza a correspondência mais longa encontrada\n",
        "            if length > match_length:\n",
        "                match_length = length\n",
        "                match_distance = len(search_buffer) - j\n",
        "\n",
        "        # Adiciona o caractere atual diretamente se não houver correspondência\n",
        "        if match_length == 0:\n",
        "            compressed_data.append((0, 0, caractere))\n",
        "            i += 1\n",
        "        else:\n",
        "            # Combina correspondências consecutivas, se possível\n",
        "            if compressed_data and compressed_data[-1][0] == 1 and compressed_data[-1][1] == match_distance:\n",
        "                compressed_data[-1] = (1, match_distance, compressed_data[-1][2] + match_length)\n",
        "            else:\n",
        "                compressed_data.append((1, match_distance, match_length))\n",
        "            i += match_length\n",
        "\n",
        "    return compressed_data\n",
        "\n",
        "def lz77_decompress(compressed_data):\n",
        "    decompressed_data = []\n",
        "\n",
        "    for flag, offset, length in compressed_data:\n",
        "        if flag == 0:\n",
        "            decompressed_data.append(length)  # length é agora o caractere original\n",
        "        else:\n",
        "            start = len(decompressed_data) - offset\n",
        "            for i in range(length):\n",
        "                decompressed_data.append(decompressed_data[start + i])\n",
        "\n",
        "    return ''.join(decompressed_data)"
      ]
    },
    {
      "cell_type": "markdown",
      "source": [
        "Primeiro teste: verificando se a string é convertida em uma sequência de tuplas idêntica a da sequência apresenta no livro"
      ],
      "metadata": {
        "id": "HnP6RlyH9K2q"
      }
    },
    {
      "cell_type": "code",
      "source": [
        "string = \"ABBABBABBBAABABA\"\n",
        "# string = \"ABABAABAAABBABAB\"\n",
        "# string = \"1011010100010\"\n",
        "\n",
        "seq_tupla_0 = lz77_compress(string, 4) ## 4 é o comprimento da janela, ou seja, window_size = 4\n",
        "print(seq_tupla_0)"
      ],
      "metadata": {
        "colab": {
          "base_uri": "https://localhost:8080/"
        },
        "id": "nNrG6SwyGSuy",
        "outputId": "a0ff257a-4604-45d0-e64d-fe37871cd856"
      },
      "execution_count": 33,
      "outputs": [
        {
          "output_type": "stream",
          "name": "stdout",
          "text": [
            "[(0, 0, 'A'), (0, 0, 'B'), (1, 1, 1), (1, 3, 6), (1, 4, 2), (1, 1, 1), (1, 3, 2), (1, 2, 2)]\n"
          ]
        }
      ]
    },
    {
      "cell_type": "markdown",
      "source": [
        "Recuperação da string a partir da tupla gerada:"
      ],
      "metadata": {
        "id": "xpao7XSg9naq"
      }
    },
    {
      "cell_type": "code",
      "source": [
        "rec_string = lz77_decompress(seq_tupla_0)\n",
        "print(rec_string)"
      ],
      "metadata": {
        "colab": {
          "base_uri": "https://localhost:8080/"
        },
        "id": "0T9jUFksGUVh",
        "outputId": "23471cef-ad77-43aa-c7db-867f94897e31"
      },
      "execution_count": 34,
      "outputs": [
        {
          "output_type": "stream",
          "name": "stdout",
          "text": [
            "ABBABBABBBAABABA\n"
          ]
        }
      ]
    },
    {
      "cell_type": "markdown",
      "source": [
        "Segundo teste: utilizar uma frase"
      ],
      "metadata": {
        "id": "M8_AFtiY92Hj"
      }
    },
    {
      "cell_type": "code",
      "source": [
        "texto = \"O_rato_roeu_a_roupa_do_rei_de_Roma\"\n",
        "seq_tupla_1 = lz77_compress(texto, 12)\n",
        "seq_tupla_1"
      ],
      "metadata": {
        "colab": {
          "base_uri": "https://localhost:8080/"
        },
        "id": "vLJWii60leF1",
        "outputId": "8f7890ef-6fe1-48df-820e-0ca88516d607"
      },
      "execution_count": 35,
      "outputs": [
        {
          "output_type": "execute_result",
          "data": {
            "text/plain": [
              "[(0, 0, 'O'),\n",
              " (0, 0, '_'),\n",
              " (0, 0, 'r'),\n",
              " (0, 0, 'a'),\n",
              " (0, 0, 't'),\n",
              " (0, 0, 'o'),\n",
              " (1, 5, 2),\n",
              " (1, 3, 1),\n",
              " (0, 0, 'e'),\n",
              " (0, 0, 'u'),\n",
              " (1, 10, 1),\n",
              " (1, 9, 1),\n",
              " (1, 7, 3),\n",
              " (1, 6, 1),\n",
              " (0, 0, 'p'),\n",
              " (1, 6, 2),\n",
              " (0, 0, 'd'),\n",
              " (1, 6, 1),\n",
              " (1, 9, 2),\n",
              " (0, 0, 'e'),\n",
              " (0, 0, 'i'),\n",
              " (1, 7, 2),\n",
              " (1, 4, 1),\n",
              " (1, 10, 1),\n",
              " (0, 0, 'R'),\n",
              " (1, 10, 1),\n",
              " (0, 0, 'm'),\n",
              " (0, 0, 'a')]"
            ]
          },
          "metadata": {},
          "execution_count": 35
        }
      ]
    },
    {
      "cell_type": "code",
      "source": [
        "rec_texto = lz77_decompress(seq_tupla_1)\n",
        "rec_texto"
      ],
      "metadata": {
        "colab": {
          "base_uri": "https://localhost:8080/",
          "height": 35
        },
        "id": "fgCo7TTclmSs",
        "outputId": "97eb7635-0053-44b1-c031-cbd06ee57df3"
      },
      "execution_count": 36,
      "outputs": [
        {
          "output_type": "execute_result",
          "data": {
            "text/plain": [
              "'O_rato_roeu_a_roupa_do_rei_de_Roma'"
            ],
            "application/vnd.google.colaboratory.intrinsic+json": {
              "type": "string"
            }
          },
          "metadata": {},
          "execution_count": 36
        }
      ]
    },
    {
      "cell_type": "markdown",
      "source": [
        "**Codificação e decodificação com LZ77**"
      ],
      "metadata": {
        "id": "kdaWlQQcXwZO"
      }
    },
    {
      "cell_type": "code",
      "source": [
        "import math\n",
        "\n",
        "def to_binary(n, length):\n",
        "    \"\"\"Converte um número em uma string binária de comprimento específico.\"\"\"\n",
        "    return bin(n)[2:].zfill(length)\n",
        "\n",
        "def lz77_basic_encode(input_string):\n",
        "    # Inicializa a lista de substrings (o dicionário de substrings) com a sequência vazia\n",
        "    substrings = ['']\n",
        "    encoded_output = []\n",
        "\n",
        "    # Inicializa a posição atual na string de entrada\n",
        "    i = 0\n",
        "    while i < len(input_string):\n",
        "        # Encontra a maior substring que já apareceu\n",
        "        j = 1\n",
        "        while input_string[i:i + j] in substrings and (i + j) <= len(input_string):\n",
        "            j += 1\n",
        "        j -= 1\n",
        "\n",
        "        # Determina o índice (ponteiro) da substring encontrada\n",
        "        substring = input_string[i:i + j]\n",
        "        pointer = substrings.index(substring)\n",
        "\n",
        "        # Converte o ponteiro para binário com o número necessário de bits\n",
        "        pointer_binary = to_binary(pointer, math.ceil(math.log2(len(substrings))))\n",
        "\n",
        "        # Define o próximo bit que não está na substring para ser o bit extra\n",
        "        next_bit = input_string[i + j] if (i + j) < len(input_string) else ''\n",
        "\n",
        "        # Adiciona o par (ponteiro em binário, next_bit) ao output codificado\n",
        "        encoded_output.append((pointer_binary, next_bit))\n",
        "\n",
        "        # Adiciona a nova substring (substring + next_bit) ao dicionário de substrings\n",
        "        substrings.append(substring + next_bit)\n",
        "\n",
        "        # Move para a próxima posição após a nova substring\n",
        "        i += j + 1\n",
        "\n",
        "    return encoded_output\n",
        "\n",
        "def generate_encoded_string(encoded_output):\n",
        "    encoded_string = []\n",
        "    for i in range(len(encoded_output)):\n",
        "      if i==0:\n",
        "        encoded_string.append(encoded_output[i][1])\n",
        "      else:\n",
        "        encoded_string.append(encoded_output[i][0])\n",
        "        encoded_string.append(encoded_output[i][1])\n",
        "    return ''.join(encoded_string)"
      ],
      "metadata": {
        "id": "mMd6ykk90l24"
      },
      "execution_count": 37,
      "outputs": []
    },
    {
      "cell_type": "code",
      "source": [
        "def decode_encoded_string(encoded_string):\n",
        "    \"\"\"Decodifica a encoded_string para obter encoded_output e input_string.\"\"\"\n",
        "    substrings = ['']\n",
        "    encoded_output = []\n",
        "    input_string = []\n",
        "    i = 0\n",
        "\n",
        "    while i < len(encoded_string):\n",
        "        # Determinar o número de bits do ponteiro (baseado no tamanho atual do dicionário)\n",
        "        pointer_length = math.ceil(math.log2(len(substrings)))\n",
        "\n",
        "        if pointer_length == 0:  # Caso inicial\n",
        "            pointer = 0\n",
        "        else:\n",
        "            # Extrair o ponteiro em binário\n",
        "            pointer_binary = encoded_string[i:i + pointer_length]\n",
        "            pointer = int(pointer_binary, 2)\n",
        "            i += pointer_length\n",
        "\n",
        "        # Extrair o próximo bit (se existir)\n",
        "        next_bit = encoded_string[i] if i < len(encoded_string) else ''\n",
        "        i += 1\n",
        "\n",
        "        # Adicionar ao encoded_output\n",
        "        encoded_output.append((to_binary(pointer, pointer_length), next_bit))\n",
        "\n",
        "        # Reconstruir o input_string\n",
        "        substring = substrings[pointer] + next_bit\n",
        "        input_string.append(substring)\n",
        "\n",
        "        # Atualizar o dicionário de substrings\n",
        "        substrings.append(substring)\n",
        "\n",
        "    # Concatenar o input_string para formar a string original\n",
        "    input_string = ''.join(input_string)\n",
        "    return encoded_output, input_string"
      ],
      "metadata": {
        "id": "IAYDsxh53GFn"
      },
      "execution_count": 38,
      "outputs": []
    },
    {
      "cell_type": "markdown",
      "source": [
        "Exemplo 1:"
      ],
      "metadata": {
        "id": "c91Y9WjyYsh9"
      }
    },
    {
      "cell_type": "code",
      "source": [
        "mensagem = \"1011010100010\"\n",
        "encoded_tupla = lz77_basic_encode(mensagem)\n",
        "encoded_msg = generate_encoded_string(encoded_tupla)\n",
        "print(\"Sequência de tuplas:\", encoded_tupla)\n",
        "print(\"Codificação binária:\", encoded_msg)"
      ],
      "metadata": {
        "colab": {
          "base_uri": "https://localhost:8080/"
        },
        "id": "1aJO2CpsYoGB",
        "outputId": "5b4dd08d-14e9-461a-f494-a3d42eedeee5"
      },
      "execution_count": 49,
      "outputs": [
        {
          "output_type": "stream",
          "name": "stdout",
          "text": [
            "Sequência de tuplas: [('0', '1'), ('0', '0'), ('01', '1'), ('10', '1'), ('100', '0'), ('010', '0'), ('001', '0')]\n",
            "Codificação binária: 100011101100001000010\n"
          ]
        }
      ]
    },
    {
      "cell_type": "code",
      "source": [
        "seq_tupla_2, rec_mensagem = decode_encoded_string(encoded_msg)\n",
        "print(\"Tuplas:\",seq_tupla_2)\n",
        "print(\"Mensagem recuperada:\", rec_mensagem)"
      ],
      "metadata": {
        "colab": {
          "base_uri": "https://localhost:8080/"
        },
        "id": "MSbqKgZbYq1W",
        "outputId": "41a30135-4df3-4e62-ea76-60f93b70b938"
      },
      "execution_count": 47,
      "outputs": [
        {
          "output_type": "stream",
          "name": "stdout",
          "text": [
            "Tuplas: [('0', '1'), ('0', '0'), ('01', '1'), ('10', '1'), ('100', '0'), ('010', '0'), ('001', '0')]\n",
            "Memsagem recuperada: 1011010100010\n"
          ]
        }
      ]
    },
    {
      "cell_type": "code",
      "source": [
        "if rec_mensagem == mensagem:\n",
        "  print(True)\n",
        "else:\n",
        "  print(False)"
      ],
      "metadata": {
        "colab": {
          "base_uri": "https://localhost:8080/"
        },
        "id": "r54d-d3MbLG3",
        "outputId": "8dbb551d-b487-4d60-befc-4b8da1049221"
      },
      "execution_count": 50,
      "outputs": [
        {
          "output_type": "stream",
          "name": "stdout",
          "text": [
            "True\n"
          ]
        }
      ]
    },
    {
      "cell_type": "markdown",
      "source": [
        "Exercício 7.6 do livro de David MacKay:\n",
        "Encode the string **000000000000100000000000** using the basic Lempel-Ziv algorithm described above."
      ],
      "metadata": {
        "id": "iLqVKLEfItmb"
      }
    },
    {
      "cell_type": "code",
      "source": [
        "string_7_6 = \"000000000000100000000000\"\n",
        "enconded_7_6 = lz77_basic_encode(string_7_6)\n",
        "print(\"Tuplas:\", enconded_7_6)\n",
        "print(\"Codificação binária:\", generate_encoded_string(enconded_7_6))"
      ],
      "metadata": {
        "colab": {
          "base_uri": "https://localhost:8080/"
        },
        "id": "6N-FUcgfIP94",
        "outputId": "af69a9a3-824e-4f4e-c718-d6895f5e9fb7"
      },
      "execution_count": 48,
      "outputs": [
        {
          "output_type": "stream",
          "name": "stdout",
          "text": [
            "Tuplas: [('0', '0'), ('1', '0'), ('10', '0'), ('11', '0'), ('010', '1'), ('100', '0'), ('110', '0')]\n",
            "Codificação binária: 010100110010110001100\n"
          ]
        }
      ]
    },
    {
      "cell_type": "markdown",
      "source": [
        "Exercício 7.7 do livro de David MacKay: Decode the string 00101011101100100100011010101000011 that was encoded using the basic Lempel-Ziv algorithm."
      ],
      "metadata": {
        "id": "r-hJ91IhJnkG"
      }
    },
    {
      "cell_type": "code",
      "source": [
        "decode_7_7 = \"00101011101100100100011010101000011\"\n",
        "\n",
        "string_7_7 = \"0100001000100010101000001\""
      ],
      "metadata": {
        "id": "vkUhrIJcJmHI"
      },
      "execution_count": 14,
      "outputs": []
    },
    {
      "cell_type": "code",
      "source": [
        "seq_tupla, mensagem_original = decode_encoded_string(decode_7_7)\n",
        "print(seq_tupla)\n",
        "print(mensagem_original)"
      ],
      "metadata": {
        "colab": {
          "base_uri": "https://localhost:8080/"
        },
        "id": "GeJNgcod4krI",
        "outputId": "57d3831f-906b-4523-ade8-da141b6020d5"
      },
      "execution_count": 22,
      "outputs": [
        {
          "output_type": "stream",
          "name": "stdout",
          "text": [
            "[('0', '0'), ('0', '1'), ('01', '0'), ('11', '1'), ('011', '0'), ('010', '0'), ('100', '0'), ('110', '1'), ('0101', '0'), ('0001', '1')]\n",
            "0100001000100010101000001\n"
          ]
        }
      ]
    },
    {
      "cell_type": "code",
      "source": [
        "if mensagem_original == string_7_7:\n",
        "  print(True)\n",
        "else:\n",
        "  print(False)"
      ],
      "metadata": {
        "colab": {
          "base_uri": "https://localhost:8080/"
        },
        "id": "CSpyFUKy9fb3",
        "outputId": "d19b1b1a-6ac5-4ea6-a0f7-123a66035d7f"
      },
      "execution_count": 45,
      "outputs": [
        {
          "output_type": "stream",
          "name": "stdout",
          "text": [
            "True\n"
          ]
        }
      ]
    }
  ]
}